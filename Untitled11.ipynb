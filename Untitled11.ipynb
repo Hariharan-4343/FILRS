{
  "nbformat": 4,
  "nbformat_minor": 0,
  "metadata": {
    "colab": {
      "provenance": [],
      "authorship_tag": "ABX9TyOe/uIB8f89/DNJH/Z/VQXS",
      "include_colab_link": true
    },
    "kernelspec": {
      "name": "python3",
      "display_name": "Python 3"
    },
    "language_info": {
      "name": "python"
    }
  },
  "cells": [
    {
      "cell_type": "markdown",
      "metadata": {
        "id": "view-in-github",
        "colab_type": "text"
      },
      "source": [
        "<a href=\"https://colab.research.google.com/github/Hariharan-4343/FILRS/blob/main/Untitled11.ipynb\" target=\"_parent\"><img src=\"https://colab.research.google.com/assets/colab-badge.svg\" alt=\"Open In Colab\"/></a>"
      ]
    },
    {
      "cell_type": "code",
      "execution_count": null,
      "metadata": {
        "id": "knf77Bc4V2D5"
      },
      "outputs": [],
      "source": []
    },
    {
      "cell_type": "markdown",
      "source": [
        "1)"
      ],
      "metadata": {
        "id": "uGlGvg11V3c-"
      }
    },
    {
      "cell_type": "code",
      "source": [
        "import math\n",
        "radius = 3\n",
        "area = math.pi * radius * radius\n",
        "print(area)"
      ],
      "metadata": {
        "colab": {
          "base_uri": "https://localhost:8080/"
        },
        "id": "ct54cIlUV7jA",
        "outputId": "75f0d9eb-ef4a-431b-f435-7703aaa026dc"
      },
      "execution_count": null,
      "outputs": [
        {
          "output_type": "stream",
          "name": "stdout",
          "text": [
            "28.274333882308138\n"
          ]
        }
      ]
    },
    {
      "cell_type": "code",
      "source": [],
      "metadata": {
        "id": "4serOLcxWHt5"
      },
      "execution_count": null,
      "outputs": []
    },
    {
      "cell_type": "markdown",
      "source": [
        "2)"
      ],
      "metadata": {
        "id": "ifYWUWEPWNrw"
      }
    },
    {
      "cell_type": "code",
      "source": [
        "name = \"Anisha\"\n",
        "roll_number = 21\n",
        "mark = 78\n",
        "\n",
        "print(\"Name:\", name)\n",
        "print(\"Roll No:\", roll_number)\n",
        "print(\"Mark:\", mark)()"
      ],
      "metadata": {
        "colab": {
          "base_uri": "https://localhost:8080/"
        },
        "id": "neqZ2dIgWvQ2",
        "outputId": "142e9f4f-1dd6-466b-d301-3eb606e25197"
      },
      "execution_count": null,
      "outputs": [
        {
          "output_type": "stream",
          "name": "stdout",
          "text": [
            "Name: Anisha\n",
            "Roll No: 21\n",
            "Mark: 78\n"
          ]
        }
      ]
    },
    {
      "cell_type": "markdown",
      "source": [],
      "metadata": {
        "id": "Rb795Ui9x_l6"
      }
    },
    {
      "cell_type": "markdown",
      "source": [
        "3)\n"
      ],
      "metadata": {
        "id": "B9nNRrgfykg3"
      }
    },
    {
      "cell_type": "code",
      "source": [
        "number=[12,3,47,10]\n",
        "m=max(number)\n",
        "print(m,'is the largest number')\n"
      ],
      "metadata": {
        "id": "KQmYjkZ6Xfav",
        "colab": {
          "base_uri": "https://localhost:8080/"
        },
        "outputId": "68008bfc-ea44-4565-9a41-610e3a732a67"
      },
      "execution_count": 16,
      "outputs": [
        {
          "output_type": "stream",
          "name": "stdout",
          "text": [
            "47 is the largest number\n"
          ]
        }
      ]
    },
    {
      "cell_type": "markdown",
      "source": [
        "4)"
      ],
      "metadata": {
        "id": "0GYMRtUW3CLk"
      }
    },
    {
      "cell_type": "code",
      "source": [
        "n=[1,2,3,4,5,6,7,8,9,10]\n",
        "previous_num=0\n",
        "for i in range(0,len(n)):\n",
        "  sum=i + previous_num\n",
        "  print('current number:',i)\n",
        "  print('previous number:',previous_num)\n",
        "  print('sum',sum)\n",
        "  previous_num=i\n",
        ""
      ],
      "metadata": {
        "id": "c2eMV2jVyvB0",
        "colab": {
          "base_uri": "https://localhost:8080/"
        },
        "outputId": "cd8df156-7b07-44ee-c4a0-72d5da7b8d3b"
      },
      "execution_count": 17,
      "outputs": [
        {
          "output_type": "stream",
          "name": "stdout",
          "text": [
            "current number: 0\n",
            "previous number: 0\n",
            "sum 0\n",
            "current number: 1\n",
            "previous number: 0\n",
            "sum 1\n",
            "current number: 2\n",
            "previous number: 1\n",
            "sum 3\n",
            "current number: 3\n",
            "previous number: 2\n",
            "sum 5\n",
            "current number: 4\n",
            "previous number: 3\n",
            "sum 7\n",
            "current number: 5\n",
            "previous number: 4\n",
            "sum 9\n",
            "current number: 6\n",
            "previous number: 5\n",
            "sum 11\n",
            "current number: 7\n",
            "previous number: 6\n",
            "sum 13\n",
            "current number: 8\n",
            "previous number: 7\n",
            "sum 15\n",
            "current number: 9\n",
            "previous number: 8\n",
            "sum 17\n"
          ]
        }
      ]
    },
    {
      "cell_type": "markdown",
      "source": [
        "5)"
      ],
      "metadata": {
        "id": "gdLUXpq83NGq"
      }
    },
    {
      "cell_type": "code",
      "source": [
        "l = [10,20,33,46,55]\n",
        "result = list(filter(lambda x: x % 5 == 0,l))\n",
        "print('the numbers divisible by 5 are', result)"
      ],
      "metadata": {
        "colab": {
          "base_uri": "https://localhost:8080/"
        },
        "id": "aOeQe57O3AYq",
        "outputId": "d134e090-f43d-488e-ee2e-2d08e05cbf79"
      },
      "execution_count": 21,
      "outputs": [
        {
          "output_type": "stream",
          "name": "stdout",
          "text": [
            "the numbers divisible by 5 are [10, 20, 55]\n"
          ]
        }
      ]
    },
    {
      "cell_type": "markdown",
      "source": [
        "6)\n",
        "\n"
      ],
      "metadata": {
        "id": "UuE0vYkw04-S"
      }
    },
    {
      "cell_type": "code",
      "source": [
        "num=int(input('enter a number'))\n",
        "if num>1:\n",
        "  for i in range(2,num):\n",
        "    if (num%i) == 0:\n",
        "      print(num,\"is not a prime number\")\n",
        "      break\n",
        "  else:\n",
        "      print(num,'number is a prime number')\n",
        "else:\n",
        "  print(num,\"not a prime number\")"
      ],
      "metadata": {
        "colab": {
          "base_uri": "https://localhost:8080/"
        },
        "id": "SVv4lXb3BagV",
        "outputId": "5153eecc-288a-4420-b7d9-890c24f408dd"
      },
      "execution_count": 18,
      "outputs": [
        {
          "output_type": "stream",
          "name": "stdout",
          "text": [
            "enter a number3\n",
            "3 number is a prime number\n"
          ]
        }
      ]
    },
    {
      "cell_type": "markdown",
      "source": [
        "7)"
      ],
      "metadata": {
        "id": "Q1C5jQzXDKW3"
      }
    },
    {
      "cell_type": "code",
      "source": [
        "orginal_list=[10,40,30,70]\n",
        "reverse_list=[]\n",
        "for i in range(1,len(orginal_list)+1):\n",
        "  reverse_list.append(orginal_list[-i])\n",
        "\n",
        "print(reverse_list)\n"
      ],
      "metadata": {
        "id": "p6jw3CEmqcVD",
        "colab": {
          "base_uri": "https://localhost:8080/"
        },
        "outputId": "61eabd45-0181-4b05-81e4-f2dfe7f72c07"
      },
      "execution_count": 19,
      "outputs": [
        {
          "output_type": "stream",
          "name": "stdout",
          "text": [
            "[70, 30, 40, 10]\n"
          ]
        }
      ]
    },
    {
      "cell_type": "markdown",
      "source": [
        "8)\n"
      ],
      "metadata": {
        "id": "rUDLSMbmbQE5"
      }
    },
    {
      "cell_type": "code",
      "source": [
        "for i in range(1,6):\n",
        "  for j in range(1, i+1):\n",
        "    print(\"*\", end=\"\")\n",
        "  print()"
      ],
      "metadata": {
        "colab": {
          "base_uri": "https://localhost:8080/"
        },
        "id": "ehP9df-SGOGN",
        "outputId": "34d916f5-533d-4b76-e770-adfea4dbe428"
      },
      "execution_count": null,
      "outputs": [
        {
          "output_type": "stream",
          "name": "stdout",
          "text": [
            "*\n",
            "**\n",
            "***\n",
            "****\n",
            "*****\n"
          ]
        }
      ]
    },
    {
      "cell_type": "markdown",
      "source": [
        "9)\n"
      ],
      "metadata": {
        "id": "S25WM47ucjyI"
      }
    },
    {
      "cell_type": "code",
      "source": [],
      "metadata": {
        "id": "8XfeVCeNfb9w"
      },
      "execution_count": null,
      "outputs": []
    },
    {
      "cell_type": "code",
      "source": [
        "num1=float(input('enter the first number'))\n",
        "num2=float(input('enter the second number'))\n",
        "num3=float(input('enter the third number'))\n",
        "\n",
        "if (num1>num2 and num1>num3):\n",
        "  print(num1,\"is greater\")\n",
        "elif(num2>num1 and num2>num3):\n",
        "    print(num2,'is greater')\n",
        "else:\n",
        "  print(num3,'is greater')\n",
        "\n"
      ],
      "metadata": {
        "id": "88siShlDdlwA",
        "colab": {
          "base_uri": "https://localhost:8080/"
        },
        "outputId": "81388d23-f8e9-4ecf-fcd0-161e2b1eb597"
      },
      "execution_count": 20,
      "outputs": [
        {
          "output_type": "stream",
          "name": "stdout",
          "text": [
            "enter the first number34\n",
            "enter the second number12\n",
            "enter the third number7\n",
            "34.0 is greater\n"
          ]
        }
      ]
    },
    {
      "cell_type": "markdown",
      "source": [],
      "metadata": {
        "id": "miCUayv4feC6"
      }
    },
    {
      "cell_type": "markdown",
      "source": [
        "10)"
      ],
      "metadata": {
        "id": "XfsRv9EOxarc"
      }
    },
    {
      "cell_type": "code",
      "source": [
        "n=5\n",
        "for i in range (0,n):\n",
        "    for j in range(0,i+1):\n",
        "          print('* ',end=\"\")\n",
        "    print('')\n",
        "for i in range (n-2,0,-1):\n",
        "  for j in range(0,i+1):\n",
        "          print('* ',end=\"\")\n",
        "  print('')"
      ],
      "metadata": {
        "colab": {
          "base_uri": "https://localhost:8080/"
        },
        "id": "Av3yVXOTjrgB",
        "outputId": "397229b5-9d43-47ba-d6b1-479d9d20f715"
      },
      "execution_count": 12,
      "outputs": [
        {
          "output_type": "stream",
          "name": "stdout",
          "text": [
            "* \n",
            "* * \n",
            "* * * \n",
            "* * * * \n",
            "* * * * * \n",
            "* * * * \n",
            "* * * \n",
            "* * \n"
          ]
        }
      ]
    }
  ]
}