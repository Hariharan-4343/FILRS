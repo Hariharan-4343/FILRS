{
  "nbformat": 4,
  "nbformat_minor": 0,
  "metadata": {
    "colab": {
      "provenance": [],
      "authorship_tag": "ABX9TyMIvW6hAkYAEBCh2kJeWQGu",
      "include_colab_link": true
    },
    "kernelspec": {
      "name": "python3",
      "display_name": "Python 3"
    },
    "language_info": {
      "name": "python"
    }
  },
  "cells": [
    {
      "cell_type": "markdown",
      "metadata": {
        "id": "view-in-github",
        "colab_type": "text"
      },
      "source": [
        "<a href=\"https://colab.research.google.com/github/Hariharan-4343/FILRS/blob/main/Untitled12.ipynb\" target=\"_parent\"><img src=\"https://colab.research.google.com/assets/colab-badge.svg\" alt=\"Open In Colab\"/></a>"
      ]
    },
    {
      "cell_type": "code",
      "source": [
        "n=input('enter a string:').lower()\n",
        "s={}\n",
        "for i in n:\n",
        "  if i in s:\n",
        "    s[i]+=1\n",
        "  else:\n",
        "    s[i]=1\n",
        "print(s)\n",
        "\n"
      ],
      "metadata": {
        "colab": {
          "base_uri": "https://localhost:8080/"
        },
        "id": "FEVe1aLNhb3S",
        "outputId": "0c84b191-c8f2-492c-c543-d7d809ff2d87"
      },
      "execution_count": 1,
      "outputs": [
        {
          "output_type": "stream",
          "name": "stdout",
          "text": [
            "enter a string:assembly\n",
            "{'a': 1, 's': 2, 'e': 1, 'm': 1, 'b': 1, 'l': 1, 'y': 1}\n"
          ]
        }
      ]
    },
    {
      "cell_type": "markdown",
      "source": [
        "2)"
      ],
      "metadata": {
        "id": "gZBX1FXnkqQT"
      }
    },
    {
      "cell_type": "code",
      "source": [
        "num1=float(input('enter the first number'))\n",
        "num2=float(input('enter the second number'))\n",
        "num3=float(input('enter the third number'))\n",
        "\n",
        "if (num1>num2 and num1>num3):\n",
        "  print(num1,\"is greater\")\n",
        "elif(num2>num1 and num2>num3):\n",
        "    print(num2,'is greater')\n",
        "else:\n",
        "  print(num3,'is greater')"
      ],
      "metadata": {
        "colab": {
          "base_uri": "https://localhost:8080/"
        },
        "id": "-tiDdV_Gkrxs",
        "outputId": "92560ad7-ee66-49e7-deb9-50b7c8236189"
      },
      "execution_count": 2,
      "outputs": [
        {
          "output_type": "stream",
          "name": "stdout",
          "text": [
            "enter the first number34\n",
            "enter the second number12\n",
            "enter the third number7\n",
            "34.0 is greater\n"
          ]
        }
      ]
    },
    {
      "cell_type": "markdown",
      "source": [
        "3)"
      ],
      "metadata": {
        "id": "2sjkMOQQlFYf"
      }
    },
    {
      "cell_type": "code",
      "source": [
        "def exponent(base,exp):\n",
        "  s=base**exp\n",
        "  print(s)\n",
        "\n",
        "\n",
        "\n",
        "base=int(input('enter the base'))\n",
        "exp=int(input('enter the exponent'))\n",
        "exponent(base,exp)\n",
        "\n"
      ],
      "metadata": {
        "colab": {
          "base_uri": "https://localhost:8080/"
        },
        "id": "Ao0jyeiZlG8v",
        "outputId": "e7dcd04e-0954-4c7c-f17a-9581b93c39ce"
      },
      "execution_count": 16,
      "outputs": [
        {
          "output_type": "stream",
          "name": "stdout",
          "text": [
            "enter the base2\n",
            "enter the exponent38\n",
            "274877906944\n"
          ]
        }
      ]
    },
    {
      "cell_type": "markdown",
      "source": [
        "4)"
      ],
      "metadata": {
        "id": "CKbR67srmJik"
      }
    },
    {
      "cell_type": "code",
      "source": [
        "def postive_number(num):\n",
        "  cubes=0\n",
        "  for i in range (1,num):\n",
        "    cubes=+ i**3\n",
        "  print(cubes)\n",
        "  positive_number(4)"
      ],
      "metadata": {
        "id": "cg0lqhU3mLR1"
      },
      "execution_count": 9,
      "outputs": []
    },
    {
      "cell_type": "markdown",
      "source": [
        "5)"
      ],
      "metadata": {
        "id": "fkTLKPnpmmOM"
      }
    },
    {
      "cell_type": "code",
      "source": [
        "n=11\n",
        "for i in range (1,n):\n",
        "  if i%2==0:\n",
        "    print('Fizz')\n",
        "  elif (i%5==0):\n",
        "    print('Buzz')\n",
        "  elif(i%2==0 and i%5==0):\n",
        "    print('fizzBuzz')\n",
        "  else:\n",
        "    print(i)"
      ],
      "metadata": {
        "colab": {
          "base_uri": "https://localhost:8080/"
        },
        "id": "IOZPfJBlmnze",
        "outputId": "40025299-de6c-4343-9cd4-6906901d448a"
      },
      "execution_count": 10,
      "outputs": [
        {
          "output_type": "stream",
          "name": "stdout",
          "text": [
            "1\n",
            "Fizz\n",
            "3\n",
            "Fizz\n",
            "Buzz\n",
            "Fizz\n",
            "7\n",
            "Fizz\n",
            "9\n",
            "Fizz\n"
          ]
        }
      ]
    },
    {
      "cell_type": "markdown",
      "source": [
        "6)"
      ],
      "metadata": {
        "id": "fK2rb8dmnXWA"
      }
    },
    {
      "cell_type": "code",
      "source": [
        "n=[2,3,4,2,5,2]\n",
        "max=0\n",
        "res=n[0]\n",
        "for i in n:\n",
        "  freq=n.count(i)\n",
        "  if freq>max:\n",
        "    max=freq\n",
        "    res=i\n",
        "\n",
        "print(res)"
      ],
      "metadata": {
        "colab": {
          "base_uri": "https://localhost:8080/"
        },
        "id": "YgeEO45dnY7n",
        "outputId": "f1b891dd-16a4-456a-a816-cd86f25d4937"
      },
      "execution_count": 11,
      "outputs": [
        {
          "output_type": "stream",
          "name": "stdout",
          "text": [
            "2\n"
          ]
        }
      ]
    },
    {
      "cell_type": "markdown",
      "source": [
        "7)"
      ],
      "metadata": {
        "id": "1JH6qWwsnh_T"
      }
    },
    {
      "cell_type": "code",
      "source": [
        "n=[2,1,3,1]\n",
        "res=0\n",
        "for i in n:\n",
        "  res= res + i**2\n",
        "\n",
        "print(res)"
      ],
      "metadata": {
        "colab": {
          "base_uri": "https://localhost:8080/"
        },
        "id": "bhYlHVKBnjzl",
        "outputId": "e229e18b-3e35-4aa3-bcf1-e0433c7c61c4"
      },
      "execution_count": 12,
      "outputs": [
        {
          "output_type": "stream",
          "name": "stdout",
          "text": [
            "15\n"
          ]
        }
      ]
    },
    {
      "cell_type": "markdown",
      "source": [
        "8)"
      ],
      "metadata": {
        "id": "jNZ7MIrhn3xB"
      }
    },
    {
      "cell_type": "code",
      "source": [
        "n=15\n",
        "for i in range (1,n+1):\n",
        "  if i%2==0:\n",
        "    print(i,'-even')\n",
        "  elif (i%3==0):\n",
        "    print(i,'-odd')\n",
        "  else:\n",
        "    print(i)"
      ],
      "metadata": {
        "colab": {
          "base_uri": "https://localhost:8080/"
        },
        "id": "Ke0pFXuqn5Z6",
        "outputId": "4c9a106f-3f9e-4b2f-8296-007fbe50c44f"
      },
      "execution_count": 13,
      "outputs": [
        {
          "output_type": "stream",
          "name": "stdout",
          "text": [
            "1\n",
            "2 -even\n",
            "3 -odd\n",
            "4 -even\n",
            "5\n",
            "6 -even\n",
            "7\n",
            "8 -even\n",
            "9 -odd\n",
            "10 -even\n",
            "11\n",
            "12 -even\n",
            "13\n",
            "14 -even\n",
            "15 -odd\n"
          ]
        }
      ]
    },
    {
      "cell_type": "markdown",
      "source": [
        "9)"
      ],
      "metadata": {
        "id": "Hjw794vwoN_g"
      }
    },
    {
      "cell_type": "code",
      "source": [
        "print(\"Options are \\n\")\n",
        "print(\"1.Convert temperatures from Celsius to Fahrenheit \\n\")\n",
        "print(\"2.Convert temperatures from Fahrenheit to Celsius \\n\")\n",
        "opt=int(input(\"Choose any Option(1 or 2) : \"))\n",
        "if opt == 1:\n",
        "    print(\"Convert temperatures from Celsius to Fahrenheit \\n\")\n",
        "    cel = float(input(\"Enter Temperature in Celsius: \"))\n",
        "    fahr = (cel*9/5)+32\n",
        "    print(\"Temperature in Fahrenheit =\",fahr)\n",
        "elif opt == 2:\n",
        "    print(\"Convert temperatures from Fahrenheit to Celsius \\n\")\n",
        "    fahr = float(input(\"Enter Temperature in Fahrenheit: \"))\n",
        "    cel=(fahr-32)*5/9;\n",
        "    print(\"Temperature in Celsius =\",cel)\n",
        "else:\n",
        "    print(\"Invalid Option\")"
      ],
      "metadata": {
        "colab": {
          "base_uri": "https://localhost:8080/"
        },
        "id": "8FAe6JlsoPdR",
        "outputId": "cde727a6-ba42-4164-f3d1-b8b80b077cad"
      },
      "execution_count": 14,
      "outputs": [
        {
          "output_type": "stream",
          "name": "stdout",
          "text": [
            "Options are \n",
            "\n",
            "1.Convert temperatures from Celsius to Fahrenheit \n",
            "\n",
            "2.Convert temperatures from Fahrenheit to Celsius \n",
            "\n",
            "Choose any Option(1 or 2) : 1\n",
            "Convert temperatures from Celsius to Fahrenheit \n",
            "\n",
            "Enter Temperature in Celsius: 5.0\n",
            "Temperature in Fahrenheit = 41.0\n"
          ]
        }
      ]
    },
    {
      "cell_type": "markdown",
      "source": [
        "10)"
      ],
      "metadata": {
        "id": "1z_0w8baomVF"
      }
    },
    {
      "cell_type": "code",
      "source": [
        "def factorial(num):\n",
        "  fact=1\n",
        "  for i in range(1,num+1):\n",
        "    if num<0:\n",
        "      print('not valid')\n",
        "    elif(num>1):\n",
        "      fact=fact*i\n",
        "  print(fact)"
      ],
      "metadata": {
        "id": "rSSxDHTQonre"
      },
      "execution_count": 15,
      "outputs": []
    }
  ]
}